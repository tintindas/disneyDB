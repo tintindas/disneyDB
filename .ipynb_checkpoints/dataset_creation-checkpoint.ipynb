{
 "cells": [
  {
   "cell_type": "markdown",
   "metadata": {},
   "source": [
    "# Dataset Creation"
   ]
  },
  {
   "cell_type": "markdown",
   "metadata": {},
   "source": [
    "## 1. Scrape Info Box "
   ]
  },
  {
   "cell_type": "markdown",
   "metadata": {},
   "source": [
    "### Import Libraries"
   ]
  },
  {
   "cell_type": "code",
   "execution_count": null,
   "metadata": {},
   "outputs": [],
   "source": [
    "from bs4 import BeautifulSoup as bs\n",
    "import requests\n",
    "import pandas as pd"
   ]
  },
  {
   "cell_type": "markdown",
   "metadata": {},
   "source": [
    "### Load WebPage"
   ]
  },
  {
   "cell_type": "code",
   "execution_count": null,
   "metadata": {},
   "outputs": [],
   "source": [
    "r = requests.get('https://en.wikipedia.org/wiki/Toy_Story_3')\n",
    "\n",
    "#Convert to a beautiful soup object\n",
    "soup  = bs(r.content)"
   ]
  },
  {
   "cell_type": "markdown",
   "metadata": {},
   "source": [
    "### Get Info Box Data"
   ]
  },
  {
   "cell_type": "code",
   "execution_count": null,
   "metadata": {},
   "outputs": [],
   "source": [
    "info_box = soup.find(class_=\"infobox vevent\")\n",
    "rows = info_box.find_all(\"tr\")"
   ]
  },
  {
   "cell_type": "code",
   "execution_count": null,
   "metadata": {},
   "outputs": [],
   "source": [
    "def get_content_value(row_data):\n",
    "    if row_data.find(\"li\"):\n",
    "        return [li.get_text(\" \", strip = True).replace(\"\\xa0\", \" \") for li in row_data.find_all(\"li\")]\n",
    "    elif row_data.find(\"br\"):\n",
    "        return [text for text in row_data.stripped_strings]\n",
    "    else:\n",
    "        return row_data.get_text(\" \", strip = True).replace(\"\\xa0\", \" \")"
   ]
  },
  {
   "cell_type": "markdown",
   "metadata": {},
   "source": [
    "\n",
    "### Store Movie in Dictionary"
   ]
  },
  {
   "cell_type": "code",
   "execution_count": null,
   "metadata": {},
   "outputs": [],
   "source": [
    "movie_info = {}\n",
    "for index, row in enumerate(rows):\n",
    "    if(index == 0):\n",
    "        movie_info['title'] = row.find('th').get_text(\" \", strip = True)\n",
    "    elif index == 1:\n",
    "        continue\n",
    "    else:\n",
    "        content_key = row.find('th').get_text(\" \", strip = True)\n",
    "        content_value = get_content_value(row.find('td'))\n",
    "        movie_info[content_key] = content_value\n",
    "movie_info"
   ]
  },
  {
   "cell_type": "markdown",
   "metadata": {},
   "source": [
    "## 2. Get Info for all Movies"
   ]
  },
  {
   "cell_type": "markdown",
   "metadata": {},
   "source": [
    "### Get List of Movies"
   ]
  },
  {
   "cell_type": "code",
   "execution_count": null,
   "metadata": {},
   "outputs": [],
   "source": [
    "#clean up extra info and references\n",
    "def clean_tags(soup):\n",
    "    for tag in soup.find_all(['sup', 'span']):\n",
    "        tag.decompose()"
   ]
  },
  {
   "cell_type": "code",
   "execution_count": null,
   "metadata": {
    "tags": []
   },
   "outputs": [],
   "source": [
    "w = requests.get(\"https://en.wikipedia.org/wiki/List_of_Walt_Disney_Pictures_films\")\n",
    "\n",
    "soup = bs(w.content)\n",
    "\n",
    "movies = soup.select(\".wikitable.sortable i a\")\n",
    "urls = [movie[\"href\"] for movie in movies]"
   ]
  },
  {
   "cell_type": "code",
   "execution_count": null,
   "metadata": {},
   "outputs": [],
   "source": [
    "def get_info_box(url):\n",
    "    r = requests.get('https://en.wikipedia.org' + url)\n",
    "\n",
    "    soup  = bs(r.content)\n",
    "\n",
    "    info_box = soup.find(class_=\"infobox vevent\")\n",
    "    rows = info_box.find_all(\"tr\")\n",
    "\n",
    "    clean_tags(soup)\n",
    "        \n",
    "    movie_info = {}\n",
    "    for index, row in enumerate(rows):\n",
    "        if(index == 0):\n",
    "            movie_info['title'] = row.find('th').get_text(\" \", strip = True)\n",
    "        else:\n",
    "            header = row.find('th')\n",
    "            if header:\n",
    "                content_key = row.find('th').get_text(\" \", strip = True)\n",
    "                content_value = get_content_value(row.find('td'))\n",
    "                movie_info[content_key] = content_value\n",
    "\n",
    "    return movie_info"
   ]
  },
  {
   "cell_type": "code",
   "execution_count": null,
   "metadata": {},
   "outputs": [],
   "source": [
    "movieDB = []\n",
    "\n",
    "for index, url in enumerate(urls):\n",
    "    if index % 20 == 0:\n",
    "        print(index)\n",
    "    try:\n",
    "        movieDB.append(get_info_box(url))\n",
    "    \n",
    "    except Exception as e:\n",
    "        print(url)\n",
    "        print(e)"
   ]
  },
  {
   "cell_type": "markdown",
   "metadata": {},
   "source": [
    "### Save Data"
   ]
  },
  {
   "cell_type": "code",
   "execution_count": null,
   "metadata": {},
   "outputs": [],
   "source": [
    "import json\n",
    "\n",
    "with open('movieDB_original.json', 'w', encoding='utf-8') as f:\n",
    "    json.dump(movieDB, f, ensure_ascii=False, indent=4)"
   ]
  },
  {
   "cell_type": "markdown",
   "metadata": {},
   "source": [
    "## 3. Clean Data"
   ]
  },
  {
   "cell_type": "markdown",
   "metadata": {},
   "source": [
    "### Clean references "
   ]
  },
  {
   "cell_type": "code",
   "execution_count": null,
   "metadata": {},
   "outputs": [],
   "source": [
    "pd.DataFrame(movieDB)"
   ]
  },
  {
   "cell_type": "markdown",
   "metadata": {},
   "source": [
    "### Convert running times to integer"
   ]
  },
  {
   "cell_type": "code",
   "execution_count": null,
   "metadata": {},
   "outputs": [],
   "source": [
    "#convert running time to integer\n",
    "def minutes_to_integer(running_time):\n",
    "    if running_time == \"N/A\":\n",
    "        return None\n",
    "    if isinstance(running_time, list):\n",
    "        running_time = running_time[0]\n",
    "    return int(running_time.split(\" \")[0])\n",
    "\n",
    "for movie in movieDB:\n",
    "    movie[\"Running time (int)\"] = minutes_to_integer(movie.get(\"Running time\", \"N/A\"))"
   ]
  },
  {
   "cell_type": "markdown",
   "metadata": {},
   "source": [
    "### Convert money to floats"
   ]
  },
  {
   "cell_type": "code",
   "execution_count": null,
   "metadata": {},
   "outputs": [],
   "source": [
    "import re"
   ]
  },
  {
   "cell_type": "code",
   "execution_count": null,
   "metadata": {},
   "outputs": [],
   "source": [
    "amounts = r\"thousand|million|billion\"\n",
    "number = r\"\\d+(,\\d{3})*\\.*\\d*\"\n",
    "\n",
    "value_re = rf\"\\${number}\"\n",
    "word_re = rf\"\\${number}(-|\\sto\\s|–)?({number})?\\s({amounts})\""
   ]
  },
  {
   "cell_type": "code",
   "execution_count": null,
   "metadata": {},
   "outputs": [],
   "source": [
    "def parse_value(str):\n",
    "     value_string = re.search(number, str).group()\n",
    "     value = float(value_string.replace(\",\", \"\"))\n",
    "     return value"
   ]
  },
  {
   "cell_type": "code",
   "execution_count": null,
   "metadata": {},
   "outputs": [],
   "source": [
    "def word_to_value(word):\n",
    "    value_dict = {\"thousand\": 1000, \"million\": 1000000, \"billion\": 1000000000}\n",
    "    return value_dict[word]\n",
    "\n",
    "def parse_word(string):\n",
    "    value_string = (re.search(number, string).group())\n",
    "    value = float(value_string.replace(\",\", \"\"))\n",
    "    word = re.search(amounts, string, flags= re.I).group().lower()\n",
    "    word_value = word_to_value(word)\n",
    "    return value*word_value"
   ]
  },
  {
   "cell_type": "code",
   "execution_count": null,
   "metadata": {},
   "outputs": [],
   "source": [
    "#convert money to integer\n",
    "def money_conversion(money):\n",
    "    if money == \"N/A\":\n",
    "        return None\n",
    "\n",
    "    if isinstance(money, list):\n",
    "        money = money[0]\n",
    "    \n",
    "    value_syntax = re.search(value_re, money)\n",
    "    word_syntax = re.search(word_re, money, flags = re.I)\n",
    "   \n",
    "    if word_syntax:\n",
    "        return parse_word(word_syntax.group())\n",
    "    elif value_syntax:\n",
    "        return parse_value(value_syntax.group())\n",
    "\n",
    "    else:\n",
    "        return None"
   ]
  },
  {
   "cell_type": "code",
   "execution_count": null,
   "metadata": {},
   "outputs": [],
   "source": [
    "for movie in movieDB:\n",
    "    movie[\"Budget (float)\"] = money_conversion(movie.get(\"Budget\", \"N/A\"))\n",
    "    movie[\"Box office (float)\"] = money_conversion(movie.get(\"Box office\", \"N/A\"))"
   ]
  },
  {
   "cell_type": "markdown",
   "metadata": {},
   "source": [
    "### Convert dates to date objects"
   ]
  },
  {
   "cell_type": "code",
   "execution_count": null,
   "metadata": {},
   "outputs": [],
   "source": [
    "from datetime import datetime"
   ]
  },
  {
   "cell_type": "code",
   "execution_count": null,
   "metadata": {},
   "outputs": [],
   "source": [
    "dates = [movie.get('Release date', 'N/A') for movie in movieDB]"
   ]
  },
  {
   "cell_type": "code",
   "execution_count": null,
   "metadata": {},
   "outputs": [],
   "source": [
    "def clean_date(date):\n",
    "    return date.split(\"(\")[0].strip()"
   ]
  },
  {
   "cell_type": "code",
   "execution_count": null,
   "metadata": {},
   "outputs": [],
   "source": [
    "def date_conversion(date):\n",
    "    if isinstance(date, list):\n",
    "        date = date[0]\n",
    "    \n",
    "    if date == \"N/A\":\n",
    "        return None\n",
    "\n",
    "    date_string = clean_date(date)\n",
    "    \n",
    "    fmts = [\"%B %d, %Y\", \"%d %B %Y\", \"%Y\"]\n",
    "\n",
    "    for fmt in fmts:\n",
    "        try:\n",
    "            return datetime.strptime(date_string, fmt)\n",
    "        except:\n",
    "            pass\n",
    "    \n",
    "    return None"
   ]
  },
  {
   "cell_type": "code",
   "execution_count": null,
   "metadata": {
    "tags": []
   },
   "outputs": [],
   "source": [
    "for movie in movieDB:\n",
    "    movie[\"Release date (datetime)\"] = date_conversion(movie.get('Release date', 'N/A'))"
   ]
  },
  {
   "cell_type": "markdown",
   "metadata": {},
   "source": [
    "### Dropping extra columns"
   ]
  },
  {
   "cell_type": "code",
   "execution_count": null,
   "metadata": {},
   "outputs": [],
   "source": [
    "#based on columns having more than 85% empty entries\n",
    "movieDB = pd.DataFrame(movieDB)\n",
    "movieDB.drop(['Japanese','Hepburn','Adaptation by','Animation by','Traditional','Simplified','Created by','Original work','Owned by'],axis=1,inplace=True)"
   ]
  },
  {
   "cell_type": "markdown",
   "metadata": {},
   "source": [
    "### Save with Pickle"
   ]
  },
  {
   "cell_type": "code",
   "execution_count": null,
   "metadata": {},
   "outputs": [],
   "source": [
    "import pickle\n",
    "with open('movieDB.pickle', 'wb') as f:\n",
    "    pickle.dump(movieDB, f)"
   ]
  },
  {
   "cell_type": "markdown",
   "metadata": {},
   "source": [
    "### Load from Pickle"
   ]
  },
  {
   "cell_type": "code",
   "execution_count": null,
   "metadata": {},
   "outputs": [],
   "source": [
    "with open('movieDB.pickle', \"rb\") as f:\n",
    "    movieDB = pickle.load(f)"
   ]
  },
  {
   "cell_type": "markdown",
   "metadata": {},
   "source": [
    "## Save Data as CSV"
   ]
  },
  {
   "cell_type": "code",
   "execution_count": null,
   "metadata": {},
   "outputs": [],
   "source": [
    "movieDB.to_csv('movieDB_new.csv')"
   ]
  },
  {
   "cell_type": "code",
   "execution_count": null,
   "metadata": {},
   "outputs": [],
   "source": []
  }
 ],
 "metadata": {
  "kernelspec": {
   "display_name": "Python 3",
   "language": "python",
   "name": "python3"
  },
  "language_info": {
   "codemirror_mode": {
    "name": "ipython",
    "version": 3
   },
   "file_extension": ".py",
   "mimetype": "text/x-python",
   "name": "python",
   "nbconvert_exporter": "python",
   "pygments_lexer": "ipython3",
   "version": "3.7.3"
  }
 },
 "nbformat": 4,
 "nbformat_minor": 2
}
